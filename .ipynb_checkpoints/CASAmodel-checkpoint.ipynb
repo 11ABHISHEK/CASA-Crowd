{
 "cells": [
  {
   "cell_type": "code",
   "execution_count": 1,
   "metadata": {},
   "outputs": [
    {
     "name": "stderr",
     "output_type": "stream",
     "text": [
      "Using TensorFlow backend.\n"
     ]
    }
   ],
   "source": [
    "import numpy as np\n",
    "from keras import layers\n",
    "from keras.layers import Input, Dense, Activation, ZeroPadding2D, BatchNormalization, Flatten, Conv2D\n",
    "from keras.layers import AveragePooling2D, MaxPooling2D, Dropout, GlobalMaxPooling2D, GlobalAveragePooling2D\n",
    "from keras.models import Model"
   ]
  },
  {
   "cell_type": "code",
   "execution_count": 3,
   "metadata": {},
   "outputs": [],
   "source": [
    "from keras.layers import Concatenate"
   ]
  },
  {
   "cell_type": "code",
   "execution_count": 7,
   "metadata": {},
   "outputs": [],
   "source": [
    "def CASAmodel(input_shape):\n",
    "    X_input=Input(input_shape)\n",
    "    #First block\n",
    "    X = ZeroPadding2D((1,1))(X_input)\n",
    "    X = Conv2D(64, (3, 3), strides = (2, 2), name = 'conv0')(X)\n",
    "    X = Conv2D(64, (3, 3), strides = (2, 2), name = 'conv0')(X)\n",
    "    X = MaxPooling2D((2, 2), name='max_pool')(X)\n",
    "    #second block\n",
    "    X = ZeroPadding2D((1,1))(X)\n",
    "    X = Conv2D(128, (3, 3), strides = (2, 2), name = 'conv0')(X)\n",
    "    X = Conv2D(128, (3, 3), strides = (2, 2), name = 'conv0')(X)\n",
    "    X = MaxPooling2D((2, 2), name='max_pool')(X)\n",
    "    #third block\n",
    "    X = ZeroPadding2D((1,1))(X)\n",
    "    X = Conv2D(256, (3, 3), strides = (2, 2), name = 'conv0')(X)\n",
    "    X = Conv2D(256, (3, 3), strides = (2, 2), name = 'conv0')(X)\n",
    "    X = MaxPooling2D((2, 2), name='max_pool')(X)\n",
    "    #fourth block\n",
    "    X = ZeroPadding2D((1,1))(X)\n",
    "    X = Conv2D(512, (3, 3), strides = (2, 2),dilation_rate=2, name = 'conv0')(X)\n",
    "    X = Conv2D(512, (3, 3), strides = (2, 2),dilation_rate=3, name = 'conv0')(X)\n",
    "    X0 = MaxPooling2D((2, 2),dilation_rate=4, name='max_pool')(X)\n",
    "    #fifth block\n",
    "    X = ZeroPadding2D((1,1))(X0)\n",
    "    X1 = Conv2D(256, (3, 3), strides = (2, 2),dilation_rate=2, name = 'conv0')(X)\n",
    "    X = ZeroPadding2D((2,2))(X0)\n",
    "    X2 = Conv2D(256, (5, 5), strides = (2, 2),dilation_rate=3, name = 'conv0')(X)\n",
    "    X = ZeroPadding2D((3,3))(X0)\n",
    "    X3 = Conv2D(256, (7, 7), strides = (2, 2),dilation_rate=4, name = 'conv0')(X)\n",
    "    merge=Concatenate()([X1,X2])\n",
    "    X0=Concatenate()([X3,merge])\n",
    "    #sixth block\n",
    "    X = ZeroPadding2D((1,1))(X0)\n",
    "    X1 = Conv2D(128, (3, 3), strides = (2, 2),dilation_rate=2, name = 'conv0')(X)\n",
    "    X = ZeroPadding2D((2,2))(X0)\n",
    "    X2 = Conv2D(128, (5, 5), strides = (2, 2),dilation_rate=3, name = 'conv0')(X)\n",
    "    X = ZeroPadding2D((3,3))(X0)\n",
    "    X3 = Conv2D(128, (7, 7), strides = (2, 2),dilation_rate=4, name = 'conv0')(X)\n",
    "    merge=Concatenate()([X1,X2])\n",
    "    X0=Concatenate()([X3,merge])    \n",
    "    #seventh block\n",
    "    X = ZeroPadding2D((1,1))(X0)\n",
    "    X1 = Conv2D(64, (3, 3), strides = (2, 2),dilation_rate=2, name = 'conv0')(X)\n",
    "    X = ZeroPadding2D((2,2))(X0)\n",
    "    X2 = Conv2D(64, (5, 5), strides = (2, 2),dilation_rate=3, name = 'conv0')(X)\n",
    "    X = ZeroPadding2D((3,3))(X0)\n",
    "    X3 = Conv2D(64, (7, 7), strides = (2, 2),dilation_rate=4, name = 'conv0')(X)\n",
    "    merge=Concatenate()([X1,X2])\n",
    "    X=Concatenate()([X3,merge])\n",
    "    \n",
    "    model=Model(inputs=X_input, outputs=X,name='CASAModel')\n",
    "    \n",
    "    return model"
   ]
  },
  {
   "cell_type": "code",
   "execution_count": null,
   "metadata": {},
   "outputs": [],
   "source": []
  }
 ],
 "metadata": {
  "kernelspec": {
   "display_name": "Python 3",
   "language": "python",
   "name": "python3"
  },
  "language_info": {
   "codemirror_mode": {
    "name": "ipython",
    "version": 3
   },
   "file_extension": ".py",
   "mimetype": "text/x-python",
   "name": "python",
   "nbconvert_exporter": "python",
   "pygments_lexer": "ipython3",
   "version": "3.7.3"
  }
 },
 "nbformat": 4,
 "nbformat_minor": 2
}
